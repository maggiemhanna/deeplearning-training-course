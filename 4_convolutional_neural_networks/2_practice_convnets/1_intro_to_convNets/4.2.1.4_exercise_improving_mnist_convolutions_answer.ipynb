{
 "cells": [
  {
   "cell_type": "markdown",
   "metadata": {
    "colab_type": "text",
    "id": "iQjHqsmTAVLU"
   },
   "source": [
    "## Exercise \n",
    "\n",
    "So far you looked at how you would improve Fashion MNIST using Convolutions. For your exercise see if you can improve MNIST to 99.8% accuracy or more using only a single convolutional layer and a single MaxPooling 2D. You should stop training once the accuracy goes above this amount. It should happen in less than 20 epochs, so it's ok to hard code the number of epochs for training, but your training must end once it hits the above metric. If it doesn't, then you'll need to redesign your layers.\n",
    "\n",
    "When 99.8% accuracy has been hit, you should print out the string \"Reached 99.8% accuracy so cancelling training!\"\n"
   ]
  },
  {
   "cell_type": "code",
   "execution_count": 2,
   "metadata": {
    "colab": {
     "base_uri": "https://localhost:8080/",
     "height": 408
    },
    "colab_type": "code",
    "id": "sfQRyaJWAIdg",
    "outputId": "387c31c8-2ccb-48c4-94d5-92d8ece8577a"
   },
   "outputs": [
    {
     "name": "stdout",
     "output_type": "stream",
     "text": [
      "Epoch 1/20\n",
      "938/938 [==============================] - 25s 26ms/step - loss: 0.1729 - accuracy: 0.9483\n",
      "Epoch 2/20\n",
      "938/938 [==============================] - 24s 25ms/step - loss: 0.0538 - accuracy: 0.9835\n",
      "Epoch 3/20\n",
      "938/938 [==============================] - 25s 26ms/step - loss: 0.0348 - accuracy: 0.9891\n",
      "Epoch 4/20\n",
      "938/938 [==============================] - 25s 26ms/step - loss: 0.0237 - accuracy: 0.9924\n",
      "Epoch 5/20\n",
      "938/938 [==============================] - 24s 26ms/step - loss: 0.0173 - accuracy: 0.9945\n",
      "Epoch 6/20\n",
      "938/938 [==============================] - 25s 27ms/step - loss: 0.0136 - accuracy: 0.9955\n",
      "Epoch 7/20\n",
      "938/938 [==============================] - 24s 26ms/step - loss: 0.0107 - accuracy: 0.9968\n",
      "Epoch 8/20\n",
      "938/938 [==============================] - 24s 26ms/step - loss: 0.0084 - accuracy: 0.9972\n",
      "Epoch 9/20\n",
      "938/938 [==============================] - 25s 26ms/step - loss: 0.0068 - accuracy: 0.9976\n",
      "Epoch 10/20\n",
      "938/938 [==============================] - 28s 30ms/step - loss: 0.0068 - accuracy: 0.9976\n",
      "Epoch 11/20\n",
      "938/938 [==============================] - 30s 32ms/step - loss: 0.0056 - accuracy: 0.9979\n",
      "Epoch 12/20\n",
      "937/938 [============================>.] - ETA: 0s - loss: 0.0042 - accuracy: 0.9986\n",
      " 99% acc reached\n",
      "938/938 [==============================] - 27s 28ms/step - loss: 0.0042 - accuracy: 0.9987\n"
     ]
    },
    {
     "data": {
      "text/plain": [
       "<tensorflow.python.keras.callbacks.History at 0x14da16b70>"
      ]
     },
     "execution_count": 2,
     "metadata": {},
     "output_type": "execute_result"
    }
   ],
   "source": [
    "import tensorflow as tf\n",
    "\n",
    "class CustomCallbacks(tf.keras.callbacks.Callback):\n",
    "    def on_epoch_end(self, epoch, logs={}):\n",
    "      if(logs.get('accuracy')>0.998):\n",
    "        print(\"\\n 99.8% accuracy reached\")\n",
    "        self.model.stop_training = True\n",
    "\n",
    "\n",
    "mnist = tf.keras.datasets.mnist\n",
    "(training_images, training_labels), (test_images, test_labels) = mnist.load_data()\n",
    "\n",
    "def preprocess_images(image_set):\n",
    "    image_set = image_set.reshape(-1, 28, 28, 1)\n",
    "    image_set = image_set / 255.0\n",
    "    return image_set\n",
    "\n",
    "training_images = preprocess_images(training_images)\n",
    "test_images = preprocess_images(test_images)\n",
    "\n",
    "model = tf.keras.models.Sequential([\n",
    "    tf.keras.layers.Conv2D(64, (3, 3), activation='relu', input_shape=(28,28,1)),\n",
    "    tf.keras.layers.MaxPooling2D(2, 2),\n",
    "    tf.keras.layers.Flatten(),\n",
    "    tf.keras.layers.Dense(128, activation='relu'),\n",
    "    tf.keras.layers.Dense(64, activation='relu'),\n",
    "    tf.keras.layers.Dense(10, activation='softmax')\n",
    "])\n",
    "\n",
    "model.compile(\n",
    "    optimizer='adam',\n",
    "    loss='sparse_categorical_crossentropy',\n",
    "    metrics=['accuracy']\n",
    ")\n",
    "\n",
    "model.fit(\n",
    "    training_images,\n",
    "    training_labels,\n",
    "    batch_size=64,\n",
    "    epochs=20,\n",
    "    callbacks=[CustomCallbacks()]\n",
    ")"
   ]
  }
 ],
 "metadata": {
  "accelerator": "GPU",
  "colab": {
   "collapsed_sections": [],
   "name": "Exercise 3 - Question.ipynb",
   "provenance": [],
   "version": "0.3.2"
  },
  "kernelspec": {
   "display_name": "dlcourse-venv",
   "language": "python",
   "name": "dlcourse-venv"
  },
  "language_info": {
   "codemirror_mode": {
    "name": "ipython",
    "version": 3
   },
   "file_extension": ".py",
   "mimetype": "text/x-python",
   "name": "python",
   "nbconvert_exporter": "python",
   "pygments_lexer": "ipython3",
   "version": "3.7.0"
  }
 },
 "nbformat": 4,
 "nbformat_minor": 1
}
