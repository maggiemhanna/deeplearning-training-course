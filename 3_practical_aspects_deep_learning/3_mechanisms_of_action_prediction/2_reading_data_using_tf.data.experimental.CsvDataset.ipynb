{
 "cells": [
  {
   "cell_type": "code",
   "execution_count": 1,
   "metadata": {},
   "outputs": [],
   "source": [
    "import tensorflow as tf\n",
    "import numpy as np\n",
    "import pandas as pd\n",
    "\n",
    "tf.compat.v1.logging.set_verbosity(tf.compat.v1.logging.ERROR)"
   ]
  },
  {
   "cell_type": "code",
   "execution_count": 2,
   "metadata": {},
   "outputs": [],
   "source": [
    "BATCH_SIZE = 32"
   ]
  },
  {
   "cell_type": "markdown",
   "metadata": {},
   "source": [
    "# Read metadata about our data"
   ]
  },
  {
   "cell_type": "code",
   "execution_count": 3,
   "metadata": {},
   "outputs": [
    {
     "name": "stdout",
     "output_type": "stream",
     "text": [
      "Number of features: 876\n",
      "Number of targets: 207\n"
     ]
    }
   ],
   "source": [
    "features = pd.read_csv(\"data/train_features.csv\", nrows=10)\n",
    "targets = pd.read_csv(\"data/train_targets_scored.csv\", nrows=10)\n",
    "\n",
    "cols_features = features.columns\n",
    "cols_targets = targets.columns\n",
    "\n",
    "num_features = len(cols_features)\n",
    "num_targets = len(cols_targets)\n",
    "\n",
    "print(\"Number of features:\" , num_features)\n",
    "print(\"Number of targets:\" , num_targets)"
   ]
  },
  {
   "cell_type": "markdown",
   "metadata": {},
   "source": [
    "# Reading data using tf.data.experimental.CsvDataset"
   ]
  },
  {
   "cell_type": "code",
   "execution_count": 4,
   "metadata": {},
   "outputs": [],
   "source": [
    "features_types = [str(), str(), str(), str()] + [float()]*(num_features-4)\n",
    "targets_types = [str()] + [float()]*(num_targets-1)\n",
    "\n",
    "features = tf.data.experimental.CsvDataset(\"data/train_features.csv\",\n",
    "                                           record_defaults=features_types,\n",
    "                                           #select_cols\n",
    "                                           header=True)\n",
    "\n",
    "targets = tf.data.experimental.CsvDataset(\"data/train_targets_scored.csv\",\n",
    "                                          record_defaults=targets_types,\n",
    "                                          header=True)\n",
    "\n",
    "dataset = tf.data.Dataset.zip((features, targets))"
   ]
  },
  {
   "cell_type": "code",
   "execution_count": 5,
   "metadata": {},
   "outputs": [
    {
     "name": "stdout",
     "output_type": "stream",
     "text": [
      "Full dataset size: 23814\n",
      "Train dataset size: 16669\n",
      "Val dataset size: 16669\n"
     ]
    }
   ],
   "source": [
    "# split dataset into train and val\n",
    "dataset_size = dataset.reduce(0, lambda x, _: x + 1).numpy()\n",
    "\n",
    "train_size = int(0.7*dataset_size)\n",
    "val_size = dataset_size - train_size\n",
    "\n",
    "train = dataset.take(train_size)\n",
    "val = dataset.skip(train_size)\n",
    "val = dataset.take(val_size)\n",
    "\n",
    "train_size = train.reduce(0, lambda x, _: x + 1).numpy()\n",
    "val_size = train.reduce(0, lambda x, _: x + 1).numpy()\n",
    "\n",
    "print(\"Full dataset size:\", dataset_size)\n",
    "print(\"Train dataset size:\", train_size)\n",
    "print(\"Val dataset size:\", val_size)"
   ]
  },
  {
   "cell_type": "code",
   "execution_count": 6,
   "metadata": {},
   "outputs": [],
   "source": [
    "def _preprocess_line(features, targets):\n",
    "    # Pack the result into a dictionary\n",
    "    features = dict(zip(cols_features, features))\n",
    "    features.pop('sig_id')\n",
    "\n",
    "    targets = tf.stack(targets[1:])\n",
    "    \n",
    "    return features, targets\n",
    "\n",
    "train = train.map(_preprocess_line)\n",
    "train = train.batch(BATCH_SIZE)\n",
    "\n",
    "val = val.map(_preprocess_line)"
   ]
  },
  {
   "cell_type": "code",
   "execution_count": 7,
   "metadata": {},
   "outputs": [
    {
     "name": "stdout",
     "output_type": "stream",
     "text": [
      "First 5 features: ['cp_type', 'cp_time', 'cp_dose', 'g-0', 'g-1']\n",
      "A batch of cp_types: [b'trt_cp' b'trt_cp' b'trt_cp' b'trt_cp' b'trt_cp' b'trt_cp' b'trt_cp'\n",
      " b'trt_cp' b'trt_cp' b'trt_cp' b'trt_cp' b'trt_cp' b'trt_cp' b'trt_cp'\n",
      " b'trt_cp' b'trt_cp' b'trt_cp' b'trt_cp' b'trt_cp' b'trt_cp' b'trt_cp'\n",
      " b'trt_cp' b'trt_cp' b'trt_cp' b'trt_cp' b'ctl_vehicle' b'trt_cp'\n",
      " b'trt_cp' b'trt_cp' b'trt_cp' b'trt_cp' b'trt_cp']\n",
      "A batch of cp_times: [b'24' b'72' b'48' b'48' b'72' b'24' b'24' b'48' b'48' b'48' b'72' b'48'\n",
      " b'48' b'48' b'72' b'48' b'48' b'24' b'72' b'48' b'48' b'48' b'72' b'72'\n",
      " b'72' b'48' b'72' b'48' b'48' b'72' b'72' b'48']\n",
      "A batch of targets: [[0. 0. 0. ... 0. 0. 0.]\n",
      " [0. 0. 0. ... 0. 0. 0.]\n",
      " [0. 0. 0. ... 0. 0. 0.]\n",
      " ...\n",
      " [0. 0. 0. ... 0. 0. 0.]\n",
      " [0. 0. 0. ... 0. 0. 0.]\n",
      " [0. 0. 0. ... 0. 0. 0.]]\n"
     ]
    }
   ],
   "source": [
    "for feature_batch, label_batch in train.take(1):\n",
    "    print('First 5 features:', list(feature_batch.keys())[:5])\n",
    "    print('A batch of cp_types:', feature_batch['cp_type'].numpy())\n",
    "    print('A batch of cp_times:', feature_batch['cp_time'].numpy())\n",
    "    print('A batch of targets:', label_batch.numpy() ) "
   ]
  }
 ],
 "metadata": {
  "kernelspec": {
   "display_name": "dlcourse-venv",
   "language": "python",
   "name": "dlcourse-venv"
  },
  "language_info": {
   "codemirror_mode": {
    "name": "ipython",
    "version": 3
   },
   "file_extension": ".py",
   "mimetype": "text/x-python",
   "name": "python",
   "nbconvert_exporter": "python",
   "pygments_lexer": "ipython3",
   "version": "3.7.0"
  }
 },
 "nbformat": 4,
 "nbformat_minor": 4
}
